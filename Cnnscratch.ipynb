{
  "nbformat": 4,
  "nbformat_minor": 0,
  "metadata": {
    "colab": {
      "name": "Cnnscratch.ipynb",
      "provenance": [],
      "collapsed_sections": [],
      "authorship_tag": "ABX9TyP1+K6sDWWDhyEXGE5sf2JZ",
      "include_colab_link": true
    },
    "kernelspec": {
      "name": "python3",
      "display_name": "Python 3"
    },
    "accelerator": "GPU"
  },
  "cells": [
    {
      "cell_type": "markdown",
      "metadata": {
        "id": "view-in-github",
        "colab_type": "text"
      },
      "source": [
        "<a href=\"https://colab.research.google.com/github/goelpravin/practice/blob/master/Cnnscratch.ipynb\" target=\"_parent\"><img src=\"https://colab.research.google.com/assets/colab-badge.svg\" alt=\"Open In Colab\"/></a>"
      ]
    },
    {
      "cell_type": "markdown",
      "metadata": {
        "id": "ESH4IGNWx9-m",
        "colab_type": "text"
      },
      "source": [
        "1) Get Data \n",
        "2) Unzip if zipped\n",
        "3) Split data between training and testing including on directories"
      ]
    },
    {
      "cell_type": "code",
      "metadata": {
        "id": "bbSgQVAgc8mJ",
        "colab_type": "code",
        "colab": {
          "base_uri": "https://localhost:8080/",
          "height": 204
        },
        "outputId": "9b23cd7e-0abb-48c2-ce99-a69537240186"
      },
      "source": [
        "#get cats versus dogs data\n",
        "\n",
        "!wget --no-check-certificate \\\n",
        "    \"https://download.microsoft.com/download/3/E/1/3E1C3F21-ECDB-4869-8368-6DEBA77B919F/kagglecatsanddogs_3367a.zip\" \\\n",
        "    -O \"/tmp/cats-and-dogs.zip\""
      ],
      "execution_count": 1,
      "outputs": [
        {
          "output_type": "stream",
          "text": [
            "--2020-07-29 14:19:22--  https://download.microsoft.com/download/3/E/1/3E1C3F21-ECDB-4869-8368-6DEBA77B919F/kagglecatsanddogs_3367a.zip\n",
            "Resolving download.microsoft.com (download.microsoft.com)... 23.204.71.31, 2600:1407:f800:4a5::e59, 2600:1407:f800:49b::e59\n",
            "Connecting to download.microsoft.com (download.microsoft.com)|23.204.71.31|:443... connected.\n",
            "HTTP request sent, awaiting response... 200 OK\n",
            "Length: 824894548 (787M) [application/octet-stream]\n",
            "Saving to: ‘/tmp/cats-and-dogs.zip’\n",
            "\n",
            "/tmp/cats-and-dogs. 100%[===================>] 786.68M  68.8MB/s    in 12s     \n",
            "\n",
            "2020-07-29 14:19:34 (64.9 MB/s) - ‘/tmp/cats-and-dogs.zip’ saved [824894548/824894548]\n",
            "\n"
          ],
          "name": "stdout"
        }
      ]
    },
    {
      "cell_type": "code",
      "metadata": {
        "id": "fqEpiwWewOQa",
        "colab_type": "code",
        "colab": {
          "base_uri": "https://localhost:8080/",
          "height": 51
        },
        "outputId": "372aa43d-adaa-47a5-ae43-b1cc3d41e529"
      },
      "source": [
        "#Unzip the downloaded zip file and check how many files got extracted for each sub-dir\n",
        "import zipfile\n",
        "import os\n",
        "local_zip = '/tmp/cats-and-dogs.zip'\n",
        "zip_ref = zipfile.ZipFile(local_zip, 'r')\n",
        "zip_ref.extractall('/tmp')\n",
        "zip_ref.close()\n",
        "print(len(os.listdir('/tmp/PetImages/Cat/')))\n",
        "print(len(os.listdir('/tmp/PetImages/Dog/')))"
      ],
      "execution_count": 2,
      "outputs": [
        {
          "output_type": "stream",
          "text": [
            "12501\n",
            "12501\n"
          ],
          "name": "stdout"
        }
      ]
    },
    {
      "cell_type": "code",
      "metadata": {
        "id": "4Na1XYxozHBO",
        "colab_type": "code",
        "colab": {}
      },
      "source": [
        "import random\n",
        "from shutil import copyfile\n",
        "def split_data(SOURCE, TRAINING, TESTING, SPLIT_SIZE):\n",
        "    source_files = os.listdir(SOURCE);\n",
        "    random.sample(source_files, len(source_files))\n",
        "    files_attempted_to_move = 0\n",
        "    files_to_move_to_train = SPLIT_SIZE*len(source_files)\n",
        "    #first empty both training and testing folders\n",
        "    training_files = os.listdir(TRAINING)\n",
        "    for t_file in training_files:\n",
        "        os.remove(os.path.join(TRAINING, t_file))\n",
        "    testing_files = os.listdir(TESTING)\n",
        "    for tst_file in testing_files:\n",
        "        os.remove(os.path.join(TRAINING, tst_file))\n",
        "    for src_file in source_files:\n",
        "        src_file_full_path = os.path.join(SOURCE,src_file)\n",
        "        training_file_fpath = os.path.join(TRAINING, src_file)\n",
        "        testing_file_fpath = os.path.join(TESTING, src_file)\n",
        "        if(os.path.getsize(src_file_full_path)>0):\n",
        "            if(files_attempted_to_move<files_to_move_to_train):\n",
        "                copyfile(src_file_full_path, training_file_fpath)\n",
        "            else:\n",
        "                copyfile(src_file_full_path, testing_file_fpath)\n",
        "            files_attempted_to_move = files_attempted_to_move + 1"
      ],
      "execution_count": 3,
      "outputs": []
    },
    {
      "cell_type": "code",
      "metadata": {
        "id": "ekFs2FVD0CA-",
        "colab_type": "code",
        "colab": {}
      },
      "source": [
        "def makeDirsPassOSError(path):\n",
        "        try:\n",
        "            os.makedirs(path)\n",
        "        except OSError:\n",
        "            pass"
      ],
      "execution_count": 4,
      "outputs": []
    },
    {
      "cell_type": "code",
      "metadata": {
        "id": "QikDJlt-0E3J",
        "colab_type": "code",
        "colab": {}
      },
      "source": [
        "def ensureAllDirs():\n",
        "  parentDir = \"/tmp/cats-v-dogs/\"\n",
        "  makeDirsPassOSError(parentDir)\n",
        "  training_path = os.path.join(parentDir, \"training\")\n",
        "  testing_path = os.path.join(parentDir, \"testing\")\n",
        "  makeDirsPassOSError(training_path)\n",
        "  makeDirsPassOSError(testing_path)\n",
        "  training_cats_path = os.path.join(training_path,\"cats\")\n",
        "  training_dogs_path = os.path.join(training_path,\"dogs\")\n",
        "  makeDirsPassOSError(training_cats_path)\n",
        "  makeDirsPassOSError(training_dogs_path)\n",
        "  testing_cats_path = os.path.join(testing_path,\"cats\")\n",
        "  testing_dogs_path= os.path.join(testing_path,\"dogs\")\n",
        "  makeDirsPassOSError(testing_cats_path)\n",
        "  makeDirsPassOSError(testing_dogs_path)"
      ],
      "execution_count": 5,
      "outputs": []
    },
    {
      "cell_type": "code",
      "metadata": {
        "id": "3Yt6cpEv0hJe",
        "colab_type": "code",
        "colab": {
          "base_uri": "https://localhost:8080/",
          "height": 85
        },
        "outputId": "65ac97be-c38c-424a-9909-c8d10c1129b2"
      },
      "source": [
        "ensureAllDirs()\n",
        "CAT_SOURCE_DIR = \"/tmp/PetImages/Cat/\"\n",
        "TRAINING_CATS_DIR = \"/tmp/cats-v-dogs/training/cats/\"\n",
        "TESTING_CATS_DIR = \"/tmp/cats-v-dogs/testing/cats/\"\n",
        "DOG_SOURCE_DIR = \"/tmp/PetImages/Dog/\"\n",
        "TRAINING_DOGS_DIR = \"/tmp/cats-v-dogs/training/dogs/\"\n",
        "TESTING_DOGS_DIR = \"/tmp/cats-v-dogs/testing/dogs/\"\n",
        "\n",
        "split_size = .9\n",
        "split_data(CAT_SOURCE_DIR, TRAINING_CATS_DIR, TESTING_CATS_DIR, split_size)\n",
        "split_data(DOG_SOURCE_DIR, TRAINING_DOGS_DIR, TESTING_DOGS_DIR, split_size)\n",
        "print(len(os.listdir('/tmp/cats-v-dogs/training/cats/')))\n",
        "print(len(os.listdir('/tmp/cats-v-dogs/training/dogs/')))\n",
        "print(len(os.listdir('/tmp/cats-v-dogs/testing/cats/')))\n",
        "print(len(os.listdir('/tmp/cats-v-dogs/testing/dogs/')))"
      ],
      "execution_count": 6,
      "outputs": [
        {
          "output_type": "stream",
          "text": [
            "11251\n",
            "11251\n",
            "1249\n",
            "1249\n"
          ],
          "name": "stdout"
        }
      ]
    },
    {
      "cell_type": "code",
      "metadata": {
        "id": "nYVKgzTl2RPO",
        "colab_type": "code",
        "colab": {}
      },
      "source": [
        "import tensorflow as tf\n",
        "from tensorflow.keras.optimizers import RMSprop\n",
        "model = tf.keras.models.Sequential([\n",
        "    # Note the input shape is the desired size of the image 300x300 with 3 bytes color\n",
        "    # This is the first convolution\n",
        "    tf.keras.layers.Conv2D(16, (3,3), activation='relu', input_shape=(300, 300, 3)),\n",
        "    tf.keras.layers.MaxPooling2D(2, 2),\n",
        "    # The second convolution\n",
        "    tf.keras.layers.Conv2D(32, (3,3), activation='relu'),\n",
        "    tf.keras.layers.MaxPooling2D(2,2),\n",
        "    # The third convolution\n",
        "    tf.keras.layers.Conv2D(64, (3,3), activation='relu'),\n",
        "    tf.keras.layers.MaxPooling2D(2,2),\n",
        "    # The fourth convolution\n",
        "    tf.keras.layers.Conv2D(64, (3,3), activation='relu'),\n",
        "    tf.keras.layers.MaxPooling2D(2,2),\n",
        "    # The fifth convolution\n",
        "    tf.keras.layers.Conv2D(64, (3,3), activation='relu'),\n",
        "    tf.keras.layers.MaxPooling2D(2,2),\n",
        "    # Flatten the results to feed into a DNN\n",
        "    tf.keras.layers.Flatten(),\n",
        "    # 512 neuron hidden layer\n",
        "    tf.keras.layers.Dense(512, activation='relu'),\n",
        "    # Only 1 output neuron. It will contain a value from 0-1 where 0 for 1 class ('cats') and 1 for the other ('dogs')\n",
        "    tf.keras.layers.Dense(1, activation='sigmoid')\n",
        "])\n",
        "\n",
        "model.compile(optimizer=RMSprop(lr=0.001), loss='binary_crossentropy', metrics=['acc'])"
      ],
      "execution_count": 7,
      "outputs": []
    },
    {
      "cell_type": "code",
      "metadata": {
        "id": "XCkoqpPM4PCF",
        "colab_type": "code",
        "colab": {
          "base_uri": "https://localhost:8080/",
          "height": 51
        },
        "outputId": "e0203a9a-2ff5-420a-e90c-10e2043d92fc"
      },
      "source": [
        "#create generators\n",
        "from tensorflow.keras.preprocessing.image import ImageDataGenerator\n",
        "\n",
        "# All images will be rescaled by 1./255\n",
        "train_datagen = ImageDataGenerator(\n",
        "      rescale=1./255,\n",
        "      rotation_range=40,\n",
        "      width_shift_range=0.2,\n",
        "      height_shift_range=0.2,\n",
        "      shear_range=0.2,\n",
        "      zoom_range=0.2,\n",
        "      horizontal_flip=True,\n",
        "      fill_mode='nearest')\n",
        "\n",
        "validation_datagen = ImageDataGenerator(rescale=1/255)\n",
        "batch_size_training = 1280\n",
        "batch_size_validation = 130\n",
        "# Flow training images in batches of 128 using train_datagen generator\n",
        "train_generator = train_datagen.flow_from_directory(\n",
        "        '/tmp/cats-v-dogs/training/',  \n",
        "        target_size=(300, 300),  # All images will be resized to 150x150\n",
        "        batch_size=batch_size_training,\n",
        "        # Since we use binary_crossentropy loss, we need binary labels\n",
        "        class_mode='binary')\n",
        "\n",
        "# Flow training images in batches of 128 using train_datagen generator\n",
        "validation_generator = validation_datagen.flow_from_directory(\n",
        "        '/tmp/cats-v-dogs/testing/',  # This is the source directory for training images\n",
        "        target_size=(300, 300),  # All images will be resized to 150x150\n",
        "        batch_size=batch_size_validation,\n",
        "        # Since we use binary_crossentropy loss, we need binary labels\n",
        "        class_mode='binary')"
      ],
      "execution_count": 8,
      "outputs": [
        {
          "output_type": "stream",
          "text": [
            "Found 22502 images belonging to 2 classes.\n",
            "Found 2496 images belonging to 2 classes.\n"
          ],
          "name": "stdout"
        }
      ]
    },
    {
      "cell_type": "code",
      "metadata": {
        "id": "Ekm_tovh49Ry",
        "colab_type": "code",
        "colab": {
          "base_uri": "https://localhost:8080/",
          "height": 34
        },
        "outputId": "7e33108c-64a7-4078-b1d1-6c3a9cd0322a"
      },
      "source": [
        "\n",
        "num_training_images = len(os.listdir('/tmp/cats-v-dogs/training/'))\n",
        "epoch_steps = num_training_images/batch_size_training\n",
        "num_testing_images = len(os.listdir('/tmp/cats-v-dogs/testing/'))\n",
        "validation_steps = num_testing_images/batch_size_validation\n",
        "history = model.fit(\n",
        "      train_generator,\n",
        "      steps_per_epoch=epoch_steps,  \n",
        "      epochs=5,\n",
        "      verbose=1,\n",
        "      validation_data = validation_generator,\n",
        "      validation_steps=validation_steps)"
      ],
      "execution_count": null,
      "outputs": [
        {
          "output_type": "stream",
          "text": [
            "Epoch 1/5\n"
          ],
          "name": "stdout"
        }
      ]
    }
  ]
}