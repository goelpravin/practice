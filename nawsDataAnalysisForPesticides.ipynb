{
  "nbformat": 4,
  "nbformat_minor": 0,
  "metadata": {
    "colab": {
      "provenance": [],
      "authorship_tag": "ABX9TyMdv1x8bgHgCCSM7x2H7tw7",
      "include_colab_link": true
    },
    "kernelspec": {
      "name": "python3",
      "display_name": "Python 3"
    },
    "language_info": {
      "name": "python"
    }
  },
  "cells": [
    {
      "cell_type": "markdown",
      "metadata": {
        "id": "view-in-github",
        "colab_type": "text"
      },
      "source": [
        "<a href=\"https://colab.research.google.com/github/goelpravin/practice/blob/master/nawsDataAnalysisForPesticides.ipynb\" target=\"_parent\"><img src=\"https://colab.research.google.com/assets/colab-badge.svg\" alt=\"Open In Colab\"/></a>"
      ]
    },
    {
      "cell_type": "code",
      "source": [
        "#Read primary public access data (across 2 files, \n",
        "#one for columns AtoE and other for FtoY), Mental Health data (OSH file) and Environment Protection(EPA)\n",
        "import pandas as pd\n",
        "naws_data = pd.read_csv('https://www.dol.gov/sites/dolgov/files/ETA/naws/pdfs/NAWS_A2E197.csv')\n",
        "naws_f2y_data = pd.read_csv('https://www.dol.gov/sites/dolgov/files/ETA/naws/pdfs/NAWS_F2Y197.csv')\n",
        "epa_data = pd.read_csv('https://www.dol.gov/sites/dolgov/files/ETA/naws/pdfs/NAWS_EPA_2013_2014.csv')\n",
        "osh_data = pd.read_csv('https://www.dol.gov/sites/dolgov/files/ETA/naws/pdfs/NAWS_NIOSH_2009_2010.csv')\n",
        "\n",
        "#Merge all of these into one data frame and filter out data indicating pesticides usage\n",
        "#NP01f as well as PESTCONT fields have pesticides information - see definitions file\n",
        "naws_data = naws_data.merge(naws_f2y_data, on = \"FWID\", how=\"outer\")\n",
        "naws_data = naws_data.merge(epa_data, on = \"FWID\", how=\"outer\")\n",
        "naws_data = naws_data.merge(osh_data, on = \"FWID\", how=\"outer\")\n",
        "#naws_data_with_pesticides = naws_data[naws_data.NP01f>0]\n",
        "naws_data_with_pesticides = naws_data[naws_data.PESTCONT>0]"
      ],
      "metadata": {
        "colab": {
          "base_uri": "https://localhost:8080/"
        },
        "id": "m4e5RQzGbu1K",
        "outputId": "558a7ca2-3673-4d83-b819-01e0eec957f7"
      },
      "execution_count": 1,
      "outputs": [
        {
          "output_type": "stream",
          "name": "stderr",
          "text": [
            "/usr/local/lib/python3.8/dist-packages/IPython/core/interactiveshell.py:3326: DtypeWarning: Columns (82) have mixed types.Specify dtype option on import or set low_memory=False.\n",
            "  exec(code_obj, self.user_global_ns, self.user_ns)\n"
          ]
        }
      ]
    },
    {
      "cell_type": "code",
      "source": [
        "#Definitions for OSH File are not very clear, maybe because Mental Health data is seen as private\n",
        "#It seems MW3DaysCode has some form of coding for mental wellness, likewise MW4\n",
        "#Also PWTYCRD definition indicates this is the weight to be used\n",
        "#Let's see if mean is different for pesticides versus non pesticides data\n",
        "\n",
        "mw3days_data = naws_data['MW3DaysCode']\n",
        "weight_data= naws_data['PWTYCRD_x']\n",
        "weighted_mean_mw3 = (mw3days_data * weight_data).sum() / weight_data.sum()\n",
        "print(\"Overall Weighted Mean Mental Wellness Day 3 Score=\", weighted_mean_mw3)\n",
        "\n",
        "mw3days_pesticide_data = naws_data_with_pesticides['MW3DaysCode']\n",
        "weight_pesticide_data= naws_data_with_pesticides['PWTYCRD_x']\n",
        "weighted_mean_mw3_pesticide = (mw3days_pesticide_data * weight_pesticide_data).sum() / weight_pesticide_data.sum()\n",
        "print(\"With Pesticides Weighted Mean Mental Wellness Day 3 Score=\", weighted_mean_mw3_pesticide)\n",
        "\n",
        "mw4days_data = naws_data['MW4DaysCode']\n",
        "weighted_mean_mw4 = (mw4days_data * weight_data).sum() / weight_data.sum()\n",
        "print(\"Overall Weighted Mean Mental Wellness Day 4 Score=\", weighted_mean_mw4)\n",
        "\n",
        "mw4days_pesticide_data = naws_data_with_pesticides['MW4DaysCode']\n",
        "weighted_mean_mw4_pesticide = (mw4days_pesticide_data * weight_pesticide_data).sum() / weight_pesticide_data.sum()\n",
        "print(\"With Pesticides Weighted Mean Mental Wellness Day 4 Score=\", weighted_mean_mw4_pesticide)\n",
        "\n",
        "crop1workTime_data = naws_data['EP04c1_tot']\n",
        "weighted_mean_crop1work = (crop1workTime_data * weight_data).sum() / weight_data.sum()\n",
        "print(\"Overall Weighted Mean Crop 1 hours=\", weighted_mean_crop1work)\n",
        "\n",
        "crop1workTime_pesticide_data = naws_data_with_pesticides['EP04c1_tot']\n",
        "weighted_mean_crop1work_pesticide = (crop1workTime_pesticide_data * weight_pesticide_data).sum() / weight_pesticide_data.sum()\n",
        "print(\"With Pesticides Weighted Mean Crop 1 hours =\", weighted_mean_crop1work_pesticide)\n",
        "\n"
      ],
      "metadata": {
        "colab": {
          "base_uri": "https://localhost:8080/"
        },
        "id": "BBbBSbSGaWf7",
        "outputId": "7d54e4af-8f43-404c-9531-3ebc37f56588"
      },
      "execution_count": 14,
      "outputs": [
        {
          "output_type": "stream",
          "name": "stdout",
          "text": [
            "Overall Weighted Mean Mental Wellness Day 3 Score= 0.003044242060984179\n",
            "With Pesticides Weighted Mean Mental Wellness Day 3 Score= 0.0\n",
            "Overall Weighted Mean Mental Wellness Day 4 Score= 0.018046399906226546\n",
            "With Pesticides Weighted Mean Mental Wellness Day 4 Score= 0.0\n",
            "Overall Weighted Mean Crop 1 hours= 0.5194778489080614\n",
            "With Pesticides Weighted Mean Crop 1 hours = 0.0\n"
          ]
        }
      ]
    }
  ]
}